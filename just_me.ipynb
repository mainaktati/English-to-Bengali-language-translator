{
 "cells": [
  {
   "cell_type": "code",
   "execution_count": 1,
   "id": "e6ec31da",
   "metadata": {},
   "outputs": [],
   "source": [
    "import numpy as np\n",
    "import tensorflow as tf\n",
    "from tensorflow.keras.models import Model\n",
    "from tensorflow.keras.layers import Input, LSTM, Dense, Embedding\n",
    "from tensorflow.keras.preprocessing.text import Tokenizer\n",
    "from tensorflow.keras.preprocessing.sequence import pad_sequences\n",
    "from sklearn.model_selection import train_test_split"
   ]
  },
  {
   "cell_type": "code",
   "execution_count": 2,
   "id": "84ad451e",
   "metadata": {},
   "outputs": [],
   "source": [
    "import pandas as pd\n",
    "\n",
    "# Read the text file into a DataFrame\n",
    "df = pd.read_csv('thedataset.csv')"
   ]
  },
  {
   "cell_type": "code",
   "execution_count": 3,
   "id": "564a1ca3",
   "metadata": {},
   "outputs": [
    {
     "data": {
      "text/html": [
       "<div>\n",
       "<style scoped>\n",
       "    .dataframe tbody tr th:only-of-type {\n",
       "        vertical-align: middle;\n",
       "    }\n",
       "\n",
       "    .dataframe tbody tr th {\n",
       "        vertical-align: top;\n",
       "    }\n",
       "\n",
       "    .dataframe thead th {\n",
       "        text-align: right;\n",
       "    }\n",
       "</style>\n",
       "<table border=\"1\" class=\"dataframe\">\n",
       "  <thead>\n",
       "    <tr style=\"text-align: right;\">\n",
       "      <th></th>\n",
       "      <th>Eng</th>\n",
       "      <th>Beng</th>\n",
       "    </tr>\n",
       "  </thead>\n",
       "  <tbody>\n",
       "    <tr>\n",
       "      <th>0</th>\n",
       "      <td>the</td>\n",
       "      <td>দ্য</td>\n",
       "    </tr>\n",
       "    <tr>\n",
       "      <th>1</th>\n",
       "      <td>and</td>\n",
       "      <td>এবং</td>\n",
       "    </tr>\n",
       "    <tr>\n",
       "      <th>2</th>\n",
       "      <td>have</td>\n",
       "      <td>আছে</td>\n",
       "    </tr>\n",
       "    <tr>\n",
       "      <th>3</th>\n",
       "      <td>that</td>\n",
       "      <td>যে</td>\n",
       "    </tr>\n",
       "    <tr>\n",
       "      <th>4</th>\n",
       "      <td>for</td>\n",
       "      <td>জন্য</td>\n",
       "    </tr>\n",
       "  </tbody>\n",
       "</table>\n",
       "</div>"
      ],
      "text/plain": [
       "    Eng  Beng\n",
       "0   the   দ্য\n",
       "1   and   এবং\n",
       "2  have   আছে\n",
       "3  that    যে\n",
       "4   for  জন্য"
      ]
     },
     "execution_count": 3,
     "metadata": {},
     "output_type": "execute_result"
    }
   ],
   "source": [
    "df.head()"
   ]
  },
  {
   "cell_type": "code",
   "execution_count": 4,
   "id": "b89e7937",
   "metadata": {},
   "outputs": [],
   "source": [
    "english_sentences = df[\"Eng\"].tolist()\n",
    "bengali_sentences = df[\"Beng\"].tolist()"
   ]
  },
  {
   "cell_type": "code",
   "execution_count": 5,
   "id": "08204914",
   "metadata": {},
   "outputs": [],
   "source": [
    "tokenizer_eng = Tokenizer()\n",
    "tokenizer_eng.fit_on_texts(english_sentences)\n",
    "eng_seq = tokenizer_eng.texts_to_sequences(english_sentences)\n",
    "\n",
    "tokenizer_beng = Tokenizer()\n",
    "tokenizer_beng.fit_on_texts(bengali_sentences)\n",
    "beng_seq = tokenizer_beng.texts_to_sequences(bengali_sentences)\n",
    "\n",
    "\n",
    "vocab_size_eng = len(tokenizer_eng.word_index) + 1\n",
    "vocab_size_beng = len(tokenizer_beng.word_index) + 1\n",
    "\n",
    "# Padding\n",
    "max_length = max(len(seq) for seq in eng_seq + beng_seq)\n",
    "eng_seq_padded = pad_sequences(eng_seq, maxlen=max_length, padding='post')\n",
    "beng_seq_padded = pad_sequences(beng_seq, maxlen=max_length, padding='post')"
   ]
  },
  {
   "cell_type": "code",
   "execution_count": 6,
   "id": "1ce57759",
   "metadata": {},
   "outputs": [],
   "source": [
    "embedding_dim = 256\n",
    "units = 512\n",
    "\n",
    "# Encoder\n",
    "encoder_inputs = Input(shape=(max_length,))\n",
    "enc_emb = Embedding(input_dim=vocab_size_eng, output_dim=embedding_dim)(encoder_inputs)\n",
    "encoder_lstm = LSTM(units, return_state=True)\n",
    "encoder_outputs, state_h, state_c = encoder_lstm(enc_emb)\n",
    "encoder_states = [state_h, state_c]\n",
    "\n",
    "# Decoder\n",
    "decoder_inputs = Input(shape=(max_length,))\n",
    "dec_emb_layer = Embedding(input_dim=vocab_size_beng, output_dim=embedding_dim)\n",
    "dec_emb = dec_emb_layer(decoder_inputs)\n",
    "decoder_lstm = LSTM(units, return_sequences=True, return_state=True)\n",
    "decoder_outputs, _, _ = decoder_lstm(dec_emb, initial_state=encoder_states)\n",
    "decoder_dense = Dense(vocab_size_beng, activation='softmax')\n",
    "output = decoder_dense(decoder_outputs)\n",
    "\n",
    "# Model\n",
    "model = Model([encoder_inputs, decoder_inputs], output)\n",
    "\n",
    "# Compilation of model\n",
    "model.compile(optimizer='adam', loss='sparse_categorical_crossentropy',metrics=['accuracy'])"
   ]
  },
  {
   "cell_type": "code",
   "execution_count": 7,
   "id": "09189be3",
   "metadata": {},
   "outputs": [
    {
     "name": "stdout",
     "output_type": "stream",
     "text": [
      "Epoch 1/10\n",
      "129/129 [==============================] - 236s 2s/step - loss: 1.7313 - accuracy: 0.8376 - val_loss: 1.2483 - val_accuracy: 0.8486\n",
      "Epoch 2/10\n",
      "129/129 [==============================] - 202s 2s/step - loss: 1.1633 - accuracy: 0.8517 - val_loss: 1.1874 - val_accuracy: 0.8540\n",
      "Epoch 3/10\n",
      "129/129 [==============================] - 150s 1s/step - loss: 1.0989 - accuracy: 0.8539 - val_loss: 1.1647 - val_accuracy: 0.8543\n",
      "Epoch 4/10\n",
      "129/129 [==============================] - 137s 1s/step - loss: 1.0517 - accuracy: 0.8568 - val_loss: 1.1543 - val_accuracy: 0.8553\n",
      "Epoch 5/10\n",
      "129/129 [==============================] - 133s 1s/step - loss: 1.0119 - accuracy: 0.8580 - val_loss: 1.1347 - val_accuracy: 0.8562\n",
      "Epoch 6/10\n",
      "129/129 [==============================] - 134s 1s/step - loss: 0.9688 - accuracy: 0.8597 - val_loss: 1.1285 - val_accuracy: 0.8580\n",
      "Epoch 7/10\n",
      "129/129 [==============================] - 146s 1s/step - loss: 0.9257 - accuracy: 0.8618 - val_loss: 1.1152 - val_accuracy: 0.8599\n",
      "Epoch 8/10\n",
      "129/129 [==============================] - 133s 1s/step - loss: 0.8816 - accuracy: 0.8642 - val_loss: 1.1054 - val_accuracy: 0.8605\n",
      "Epoch 9/10\n",
      "129/129 [==============================] - 131s 1s/step - loss: 0.8368 - accuracy: 0.8665 - val_loss: 1.0978 - val_accuracy: 0.8626\n",
      "Epoch 10/10\n",
      "129/129 [==============================] - 136s 1s/step - loss: 0.7917 - accuracy: 0.8695 - val_loss: 1.0914 - val_accuracy: 0.8641\n"
     ]
    },
    {
     "data": {
      "text/plain": [
       "<keras.src.callbacks.History at 0x2583a909890>"
      ]
     },
     "execution_count": 7,
     "metadata": {},
     "output_type": "execute_result"
    }
   ],
   "source": [
    "X_train, X_val, y_train, y_val = train_test_split(eng_seq_padded, beng_seq_padded, test_size=0.2)\n",
    "model.fit([X_train, X_train], y_train, validation_data=([X_val, X_val], y_val), epochs=10, batch_size=64)"
   ]
  },
  {
   "cell_type": "code",
   "execution_count": 8,
   "id": "db460bc3",
   "metadata": {},
   "outputs": [],
   "source": [
    "def translate_sentence(sentence):\n",
    "    seq = tokenizer_eng.texts_to_sequences([sentence])\n",
    "    padded = pad_sequences(seq, maxlen=max_length, padding='post')\n",
    "    translated = np.argmax(model.predict([padded, padded]), axis=-1)\n",
    "    \n",
    "    translated_sentence = []\n",
    "    for i in translated[0]:\n",
    "        if i in tokenizer_beng.index_word:\n",
    "            translated_sentence.append(tokenizer_beng.index_word[i])\n",
    "        else:\n",
    "            translated_sentence.append(' ')  \n",
    "        \n",
    "    return ' '.join(translated_sentence)"
   ]
  },
  {
   "cell_type": "code",
   "execution_count": 14,
   "id": "e2106270",
   "metadata": {},
   "outputs": [
    {
     "name": "stdout",
     "output_type": "stream",
     "text": [
      "Enter your sentence:i hate you\n",
      "1/1 [==============================] - 0s 32ms/step\n",
      "Input: i hate you\n",
      "Translated: আমি আমার আপনি করি।                                \n"
     ]
    }
   ],
   "source": [
    "input_sentence = input('Enter your sentence:')\n",
    "translated_sentence = translate_sentence(input_sentence)\n",
    "print(f\"Input: {input_sentence}\")\n",
    "print(f\"Translated: {translated_sentence}\")"
   ]
  },
  {
   "cell_type": "code",
   "execution_count": null,
   "id": "f3b62d7b",
   "metadata": {},
   "outputs": [],
   "source": []
  },
  {
   "cell_type": "code",
   "execution_count": null,
   "id": "b299d649",
   "metadata": {},
   "outputs": [],
   "source": []
  }
 ],
 "metadata": {
  "kernelspec": {
   "display_name": "Python 3 (ipykernel)",
   "language": "python",
   "name": "python3"
  },
  "language_info": {
   "codemirror_mode": {
    "name": "ipython",
    "version": 3
   },
   "file_extension": ".py",
   "mimetype": "text/x-python",
   "name": "python",
   "nbconvert_exporter": "python",
   "pygments_lexer": "ipython3",
   "version": "3.11.4"
  }
 },
 "nbformat": 4,
 "nbformat_minor": 5
}
